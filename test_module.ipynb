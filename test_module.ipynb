{
 "cells": [
  {
   "cell_type": "markdown",
   "id": "74b46ad4",
   "metadata": {},
   "source": [
    "# RepositoryApp Documention"
   ]
  },
  {
   "cell_type": "markdown",
   "id": "4f3bb24c",
   "metadata": {},
   "source": [
    "The module repository_app includes the necessary tools to get the requested data. This document illustrates how to use the class and test it. The class uses the `request` package to get the information from the GitHub API. "
   ]
  },
  {
   "cell_type": "markdown",
   "id": "a999f4b9",
   "metadata": {},
   "source": [
    "First, we import the class:"
   ]
  },
  {
   "cell_type": "code",
   "execution_count": 1,
   "id": "d361ddca",
   "metadata": {},
   "outputs": [],
   "source": [
    "from repository_app import RepositoryApp"
   ]
  },
  {
   "cell_type": "markdown",
   "id": "6260380a",
   "metadata": {},
   "source": [
    "We instantiate the class. It has as `url` as _public_ instance attribute. `url` allows the user to define the source of information (by defect, `url` is \"https://api.github.com\")."
   ]
  },
  {
   "cell_type": "code",
   "execution_count": 2,
   "id": "abbf0107",
   "metadata": {},
   "outputs": [],
   "source": [
    "app = RepositoryApp()"
   ]
  },
  {
   "cell_type": "markdown",
   "id": "c4b10fce",
   "metadata": {},
   "source": [
    "The class has three main methods to retrieve the information and calculate the requested answers:"
   ]
  },
  {
   "cell_type": "markdown",
   "id": "c4ea67aa",
   "metadata": {},
   "source": [
    "### _Given an organization return the number of repositories_:"
   ]
  },
  {
   "cell_type": "markdown",
   "id": "cdea7190",
   "metadata": {},
   "source": [
    "The method `self.request_number_repositories` returns the solution to this question. The user provides the name of an organization, and it will compute the number of public repositories. The argument `org_name` is where the user can define the organization name: "
   ]
  },
  {
   "cell_type": "code",
   "execution_count": 3,
   "id": "a35c70e6",
   "metadata": {},
   "outputs": [
    {
     "name": "stdout",
     "output_type": "stream",
     "text": [
      "Number public repositories: 409\n"
     ]
    }
   ],
   "source": [
    "app.request_number_repositories(org_name='GitHub')"
   ]
  },
  {
   "cell_type": "markdown",
   "id": "f34d739e",
   "metadata": {},
   "source": [
    "### _Given an organization return the biggest repository (in bytes)_:"
   ]
  },
  {
   "cell_type": "markdown",
   "id": "ce25e439",
   "metadata": {},
   "source": [
    "The method `self.request_biggest_repository` returns the size of the biggest repository. The user provides the name of an organization, and it will compute its size (in bytes). In addition, the function will return the name of the repository. The argument `org_name` is where the user can define the organization name: "
   ]
  },
  {
   "cell_type": "code",
   "execution_count": 4,
   "id": "3f2c3dd4",
   "metadata": {},
   "outputs": [
    {
     "name": "stdout",
     "output_type": "stream",
     "text": [
      "Size biggest repository: 151192576 bytes\n",
      "Name repository: developer.github.com\n"
     ]
    }
   ],
   "source": [
    "app.request_biggest_repository(org_name='GitHub')"
   ]
  },
  {
   "cell_type": "markdown",
   "id": "fcc13d29",
   "metadata": {},
   "source": [
    "### _Return the number of organizations that are currently on Github_: "
   ]
  },
  {
   "cell_type": "markdown",
   "id": "13cee801",
   "metadata": {},
   "source": [
    "The method `self.request_number_organization` returns the number of current organizations in GitHub. It retrieves the information from the source `search/users` (`type=org`). "
   ]
  },
  {
   "cell_type": "code",
   "execution_count": 5,
   "id": "207a08db",
   "metadata": {},
   "outputs": [
    {
     "name": "stdout",
     "output_type": "stream",
     "text": [
      "Number organizations on Github: 4453943\n"
     ]
    }
   ],
   "source": [
    "app.request_number_organization()"
   ]
  }
 ],
 "metadata": {
  "kernelspec": {
   "display_name": "Python 3 (ipykernel)",
   "language": "python",
   "name": "python3"
  },
  "language_info": {
   "codemirror_mode": {
    "name": "ipython",
    "version": 3
   },
   "file_extension": ".py",
   "mimetype": "text/x-python",
   "name": "python",
   "nbconvert_exporter": "python",
   "pygments_lexer": "ipython3",
   "version": "3.8.10"
  }
 },
 "nbformat": 4,
 "nbformat_minor": 5
}
